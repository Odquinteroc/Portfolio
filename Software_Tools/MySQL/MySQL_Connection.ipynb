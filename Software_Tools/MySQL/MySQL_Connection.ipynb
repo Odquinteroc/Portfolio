{
 "cells": [
  {
   "cell_type": "code",
   "execution_count": 1,
   "metadata": {},
   "outputs": [],
   "source": [
    "import mysql.connector # import mysql.connector to allow us to connect\n",
    "from datetime import datetime"
   ]
  },
  {
   "cell_type": "code",
   "execution_count": null,
   "metadata": {},
   "outputs": [],
   "source": [
    "db = mysql.connector.connect(host = 'localhost', user =\"root\", passwd = \"oscardb\", database = \"testdatabase\" ) # this line of code has the parameter to be able to set up a connection to my database in mysql using root as user and is storing the tables y the databases called testdabase"
   ]
  },
  {
   "cell_type": "code",
   "execution_count": null,
   "metadata": {},
   "outputs": [],
   "source": [
    "mycursor = db.cursor() # this line of code  use the function .cursor() over the db statement to make a connection to my database and store the function in the variable mycursor"
   ]
  },
  {
   "cell_type": "code",
   "execution_count": null,
   "metadata": {},
   "outputs": [],
   "source": [
    "mycursor.execute(\"Create database testdatabase\") #using the variable mycursor and the function .execute() allow us to to stablish a connection and excute a query over the db in this case create a new database"
   ]
  },
  {
   "cell_type": "code",
   "execution_count": null,
   "metadata": {},
   "outputs": [],
   "source": [
    "mycursor.execute(\"create table person (name varchar(50), age smallint UNSIGNED NOT NULL, personID int primary key auto_increment) \") # this line of code use mycursor.execute() to execute a query in the database in this case to create a new table  with the column name (headers or fields name) specifying the data type of each column and setting up the primary key specifying auto_increment, and assinging some record should no be null values"
   ]
  },
  {
   "cell_type": "code",
   "execution_count": null,
   "metadata": {},
   "outputs": [],
   "source": [
    "mycursor.execute(\"describe person\") #  return the headers description of each column\n",
    "for x in mycursor: # this is the way to retrieve  the previous query and print it in the terminal\n",
    "     print(x)"
   ]
  },
  {
   "cell_type": "code",
   "execution_count": null,
   "metadata": {},
   "outputs": [],
   "source": [
    "mycursor.execute(\"insert into person (name, age) values(%s,%s)\",(\"Norma\", \"24\") ) # this line of code allows us insert values into the table created before specifying the column name and their values\n",
    "db.commit() # this line commits the query and  Once a commit is executed, the changes made within the transaction become visible and accessible to other queries"
   ]
  },
  {
   "cell_type": "code",
   "execution_count": null,
   "metadata": {},
   "outputs": [],
   "source": [
    "mycursor.execute(\"select * from person\") # this line executes the query in this case select all the colums in the person table\n",
    "for x in mycursor:\n",
    "    print(x)"
   ]
  },
  {
   "cell_type": "code",
   "execution_count": null,
   "metadata": {},
   "outputs": [],
   "source": [
    "mycursor.execute(\"CREATE TABLE  Test (name VARCHAR(50), created datetime NOT NULL, gender enum('M', 'F', 'O') NOT NULL, id int PRIMARY KEY NOT NULL AUTO_INCREMENT)\") # this line of code use mycursor.execute() to execute a query in the database in this case to create a new table  with the column name (headers or fields name) specifying the data type of each column and setting up the primary key, and assinging some record should no be null values, but specifying in the gender column just allowing ('M', 'F', 'O') using enum function this values and using the datetime library in python to save the date when the record were created\n",
    "\n",
    "mycursor.execute(\"INSERT INTO Test (name, created, gender) values(%s, %s, %s)\", (\"Jaime\", datetime.now(), \"M\")) # this line of code allows us insert values into the table created before specifying the column name and their values, in the created column we used the datetime.now libray to save the date when the record was created\n",
    "db.commit() "
   ]
  },
  {
   "cell_type": "code",
   "execution_count": null,
   "metadata": {},
   "outputs": [],
   "source": [
    "mycursor.execute(\"select * from Test where gender ='M' ORDER BY id DESC\") #this line of code slecet all the colums where gender  =  M, and order by id DESC\n",
    "\n",
    "for x in mycursor:\n",
    "    print(x)"
   ]
  },
  {
   "cell_type": "code",
   "execution_count": null,
   "metadata": {},
   "outputs": [],
   "source": [
    "mycursor.execute(\"select id, name from Test where gender ='F' ORDER BY id DESC\") #this line of code slecet all the colums where gender  = F , and order by id DESC\n",
    "for x in mycursor:\n",
    "     print(x)"
   ]
  },
  {
   "cell_type": "code",
   "execution_count": null,
   "metadata": {},
   "outputs": [],
   "source": [
    "mycursor.execute(\"ALTER TABLE Test ADD COLUMN  food varchar(50) NOT NULL\")#this line of code  add new column called food specifying the data type"
   ]
  },
  {
   "cell_type": "code",
   "execution_count": null,
   "metadata": {},
   "outputs": [],
   "source": [
    "mycursor.execute(\"describe Test\") #  return the headers description of each column\n",
    "for x in mycursor:\n",
    "    print(x)"
   ]
  },
  {
   "cell_type": "code",
   "execution_count": null,
   "metadata": {},
   "outputs": [],
   "source": [
    "mycursor.execute(\"ALTER TABLE Test drop COLUMN  food \") # this line of code drop food column\n",
    "mycursor.execute(\"describe Test\")\n",
    "for x in mycursor:\n",
    "    print(x)"
   ]
  },
  {
   "cell_type": "code",
   "execution_count": null,
   "metadata": {},
   "outputs": [],
   "source": [
    "mycursor.execute(\"ALTER TABLE TEST change name first_name varchar(50)\") #you can also change just the length of the varchar but if you have a name larger than the new value then you'll get an error\n",
    "mycursor.execute(\"describe Test\")\n",
    "for x in mycursor:\n",
    "    print(x)"
   ]
  },
  {
   "cell_type": "code",
   "execution_count": null,
   "metadata": {},
   "outputs": [],
   "source": [
    "users =[\n",
    "    (\"John\", \"techwithtim\", \"tim@gmail.com\"),\n",
    "    (\"Oscar\", \"oscar123\", \"oscar@gmail.com\"),\n",
    "    (\"norma\", \"norma12345\", \"norma@gmail.com\")\n",
    "]\n",
    "\n",
    "user_score = [\n",
    "    (45,100),\n",
    "    (30,200),\n",
    "    (46,124)\n",
    "]\n",
    "Q1 = \"CREATE TABLE Users (id int PRIMARY KEY AUTO_INCREMENT, nmae VARCHAR(50), passwd VARCHAR(50), email VARCHAR(50))\" # this line of cade save a query into a variable, the query will create a new table called Users, assinging the columns name with its datatype, in the id column is specified  that the primary key is auto_increment\n",
    "\n",
    "Q2 = \"CREATE TABLE SCORES (Userid int PRIMARY KEY, FOREIGN KEY(userID) REFERENCES Users(id),  game1 int default 0,  game2 int default 0)\"  # this line of cade save a query into a variable, the query will create a new table called SCORES, assinging the columns name with its datatype, in the Userid column is specified  the primary key also the query is specified a column userID to be a foreign key of the table User and the column id using the reference reserved word"
   ]
  },
  {
   "cell_type": "code",
   "execution_count": null,
   "metadata": {},
   "outputs": [],
   "source": [
    "mycursor.execute(Q1)\n",
    "mycursor.execute(\"describe Users\")\n",
    "# for x in mycursor:\n",
    "#     print(x)"
   ]
  },
  {
   "cell_type": "code",
   "execution_count": null,
   "metadata": {},
   "outputs": [],
   "source": [
    "# mycursor.execute(Q2)\n",
    "# mycursor.execute(\"describe SCORES\")\n",
    "# for x in mycursor:\n",
    "#     print(x)"
   ]
  },
  {
   "cell_type": "code",
   "execution_count": null,
   "metadata": {},
   "outputs": [],
   "source": [
    "# mycursor.execute(\"show tables\")\n",
    "# for x in mycursor:\n",
    "#     print(x)"
   ]
  },
  {
   "cell_type": "code",
   "execution_count": null,
   "metadata": {},
   "outputs": [],
   "source": [
    "Q3= \"insert into Users (nmae, passwd, email) VALUES (%s,%s,%s)\"\n",
    "Q4= \"insert into SCORES (userId, game1, game2) VALUES (%s,%s,%s)\"\n",
    " # the variable Q3 and Q4 are variables with queries defined to insert data into a tables"
   ]
  },
  {
   "cell_type": "code",
   "execution_count": null,
   "metadata": {},
   "outputs": [],
   "source": [
    "for x, user in enumerate(users):\n",
    "    mycursor.execute(Q3, user)\n",
    "    last_id =mycursor.lastrowid\n",
    "    mycursor.execute(Q4, (last_id,) + user_score[x])\n",
    "# this for loop interate over the 'users' list enumarating each item to get the index 'x' and and the user object 'user', it executes the first query, Q3, to insert data related to the current user into the database. then retrieves the last inserted row ID using mycursor.lastrowid. as the primary key of the table is auto-incremented. After that, it executes another query, Q4, to insert additional data related to the user, using the last inserted row ID obtained in the previous step along with data from user_score[x].\n",
    "db.commit()"
   ]
  },
  {
   "cell_type": "code",
   "execution_count": null,
   "metadata": {},
   "outputs": [],
   "source": [
    "mycursor.execute(\"select * from Users\")\n",
    "\n",
    "for x in mycursor:\n",
    "    print(x)"
   ]
  },
  {
   "cell_type": "code",
   "execution_count": null,
   "metadata": {},
   "outputs": [],
   "source": [
    "mycursor.execute(\"select * from SCORES\")\n",
    "\n",
    "for x in mycursor:\n",
    "    print(x)"
   ]
  }
 ],
 "metadata": {
  "kernelspec": {
   "display_name": "Python 3",
   "language": "python",
   "name": "python3"
  },
  "language_info": {
   "codemirror_mode": {
    "name": "ipython",
    "version": 3
   },
   "file_extension": ".py",
   "mimetype": "text/x-python",
   "name": "python",
   "nbconvert_exporter": "python",
   "pygments_lexer": "ipython3",
   "version": "3.11.5"
  }
 },
 "nbformat": 4,
 "nbformat_minor": 2
}
