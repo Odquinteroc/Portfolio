{
 "cells": [
  {
   "cell_type": "markdown",
   "metadata": {},
   "source": [
    "\n",
    "### 1\n",
    "You are given an array prices where prices[i] is the price of a given stock on the ith day.\n",
    "You want to maximize your profit by choosing a single day to buy one stock and choosing a different day in the future to sell that stock. Return the maximum profit you can achieve from this transaction. If you cannot achieve any profit, return e.\n",
    "Example 1:\n",
    "Input: prices = [7,1,5,3,6,4]\n",
    "Output: 5\n",
    "Explanation: Buy on day 2 (price = 1) and sell on day 5 (price = 6), profit = 6-1 = 5.\n",
    "Note that buying on day 2 and selling on day 1 is not allowed because you must buy before you sell. Example 2:\n",
    "Input: prices = [7,6,4,3,1]\n",
    "Output: 0"
   ]
  },
  {
   "cell_type": "code",
   "execution_count": 27,
   "metadata": {},
   "outputs": [
    {
     "name": "stdout",
     "output_type": "stream",
     "text": [
      "5\n",
      "range(0, 4)\n",
      "0\n"
     ]
    }
   ],
   "source": [
    "prices = [7,6,4,3,1]\n",
    "print(len(prices))\n",
    "\n",
    "profit = 0\n",
    "max_profit = 0\n",
    "for i in range(len(prices)-1):\n",
    "    for j in range(i+1, len(prices)):\n",
    "        profit = prices[j] - prices[i]\n",
    "        if profit > max_profit:\n",
    "            max_profit = profit\n",
    "        else:\n",
    "            continue\n",
    "print(max_profit)\n",
    "        "
   ]
  },
  {
   "cell_type": "code",
   "execution_count": 32,
   "metadata": {},
   "outputs": [
    {
     "name": "stdout",
     "output_type": "stream",
     "text": [
      "5\n",
      "0\n",
      "1\n",
      "2\n",
      "3\n"
     ]
    }
   ],
   "source": [
    "lista=[7,6,4,3,1]\n",
    "print(len(lista))\n",
    "for i in range(len(lista)-1):\n",
    "    print(i)"
   ]
  },
  {
   "cell_type": "markdown",
   "metadata": {},
   "source": [
    "### 2 \n",
    "Sum all even numbers in a list called \"nums\" Return -1 if no valid even numbers are found"
   ]
  },
  {
   "cell_type": "code",
   "execution_count": 1,
   "metadata": {},
   "outputs": [
    {
     "name": "stdout",
     "output_type": "stream",
     "text": [
      "6\n",
      "-2\n",
      "-1\n",
      "4\n",
      "-4\n"
     ]
    }
   ],
   "source": [
    "def sum_even_nums(nums: list[int])-> int:\n",
    "\n",
    "    if not nums:\n",
    "        return -1\n",
    "    \n",
    "    sum = 0\n",
    "    for num in nums:\n",
    "        if type(num) == int or type(num)== float:\n",
    "            if num%2 == 0:\n",
    "                sum += num\n",
    "    return sum\n",
    "\n",
    "print(sum_even_nums([2,3,4]))\n",
    "print(sum_even_nums([2,3,-4]))\n",
    "print(sum_even_nums([]))\n",
    "print(sum_even_nums([0.2,4,-7]))\n",
    "print(sum_even_nums([[6,4,2],4,-8]))"
   ]
  },
  {
   "cell_type": "code",
   "execution_count": 3,
   "metadata": {},
   "outputs": [
    {
     "name": "stdout",
     "output_type": "stream",
     "text": [
      "4\n"
     ]
    }
   ],
   "source": [
    "\n",
    "lista = [0.2,4,-7]\n",
    "even = filter(lambda x: x % 2 == 0, lista )\n",
    "a = list(even)\n",
    "b = sum(a)\n",
    "\n",
    "if not lista:\n",
    "    b = -1\n",
    "    \n",
    "print(b)"
   ]
  },
  {
   "cell_type": "markdown",
   "metadata": {},
   "source": [
    "\n",
    " * Escribe un programa que muestre por consola (con un print) los\n",
    " * números de 1 a 100 (ambos incluidos y con un salto de línea entre\n",
    " * cada impresión), sustituyendo los siguientes:\n",
    " * - Múltiplos de 3 por la palabra \"fizz\".\n",
    " * - Múltiplos de 5 por la palabra \"buzz\".\n",
    " * - Múltiplos de 3 y de 5 a la vez por la palabra \"fizzbuzz\".\n"
   ]
  },
  {
   "cell_type": "code",
   "execution_count": null,
   "metadata": {},
   "outputs": [],
   "source": [
    "lista = [x for x in range(1, 101, 1)]\n",
    "for i in lista:\n",
    "    if i%3 == 0:\n",
    "        i = \"fizz\"\n",
    "    elif i%5 == 0:\n",
    "        i =\"buzz\"\n",
    "    elif i%3 ==0 and i % 5==0:\n",
    "        i = \"fizzbuzz\"\n",
    "    else:\n",
    "        i = i\n",
    "    print(i)"
   ]
  },
  {
   "cell_type": "markdown",
   "metadata": {},
   "source": [
    "\n",
    " * Escribe una función que reciba dos palabras (String) y retorne\n",
    " * verdadero o falso (Bool) según sean o no anagramas.\n",
    " * - Un Anagrama consiste en formar una palabra reordenando TODAS\n",
    " *   las letras de otra palabra inicial.\n",
    " * - NO hace falta comprobar que ambas palabras existan.\n",
    " * - Dos palabras exactamente iguales no son anagrama.\n"
   ]
  },
  {
   "cell_type": "code",
   "execution_count": null,
   "metadata": {},
   "outputs": [],
   "source": [
    "def anagrama (text1: str, text2: str) -> bool:\n",
    "    if text1.lower() == text2.lower() :\n",
    "        return False\n",
    "        \n",
    "    lista1=[]\n",
    "    lista2=[]\n",
    "    \n",
    "    for i in text1.lower():\n",
    "        lista1.append(i)\n",
    "    \n",
    "    lista1.sort()\n",
    "\n",
    "    for i in text2.lower():\n",
    "        lista2.append(i) \n",
    "    \n",
    "    lista2.sort()  \n",
    "\n",
    "    return lista1 == lista2"
   ]
  },
  {
   "cell_type": "markdown",
   "metadata": {},
   "source": [
    "\n",
    "\n",
    "Write a function named capitals. The function should take a single parameter. Your function should return a list of all the capital letters from a string that is passed into the function.\n"
   ]
  },
  {
   "cell_type": "code",
   "execution_count": 4,
   "metadata": {},
   "outputs": [
    {
     "name": "stdout",
     "output_type": "stream",
     "text": [
      "['A', 'B', 'F', 'G']\n"
     ]
    }
   ],
   "source": [
    "\n",
    "\n",
    "def returnCapitalLetter (text: str) -> str:\n",
    "    '''\n",
    "    lista = []\n",
    "    for i in text:\n",
    "       if i.isupper():\n",
    "            lista.append(i)\n",
    "    return lista\n",
    "    '''\n",
    "    x = [letter for letter in text if letter.isupper()]\n",
    "    yield x\n",
    "\n",
    "print(next(returnCapitalLetter('ABcdFG')))"
   ]
  },
  {
   "cell_type": "markdown",
   "metadata": {},
   "source": [
    "'''\n",
    "\"Given a string of any length, return 50% or half of the given string.\n",
    "Notes/Constraints:\n",
    "• Should a given string have an odd number of letters, round down to the nearest number.\n",
    "'''\n"
   ]
  },
  {
   "cell_type": "code",
   "execution_count": 2,
   "metadata": {},
   "outputs": [
    {
     "name": "stdout",
     "output_type": "stream",
     "text": [
      "te\n"
     ]
    }
   ],
   "source": [
    "\n",
    "\n",
    "def half_string(text: str )-> str:\n",
    "    \n",
    "    new_text = text[:len(text)//2]\n",
    "    return new_text\n",
    "\n",
    "print(half_string('texto'))"
   ]
  },
  {
   "cell_type": "markdown",
   "metadata": {},
   "source": [
    " * Escribe un programa que imprima los 50 primeros números de la sucesión\n",
    " * de Fibonacci empezando en 0.\n",
    " * - La serie Fibonacci se compone por una sucesión de números en\n",
    " *   la que el siguiente siempre es la suma de los dos anteriores.\n",
    " *   0, 1, 1, 2, 3, 5, 8, 13..."
   ]
  },
  {
   "cell_type": "code",
   "execution_count": 6,
   "metadata": {},
   "outputs": [
    {
     "name": "stdout",
     "output_type": "stream",
     "text": [
      "[0, 1, 1, 2, 3, 5, 8, 13, 21, 34, 55, 89, 144, 233, 377, 610, 987, 1597, 2584, 4181, 6765, 10946, 17711, 28657, 46368, 75025, 121393, 196418, 317811, 514229, 832040, 1346269, 2178309, 3524578, 5702887, 9227465, 14930352, 24157817, 39088169, 63245986, 102334155, 165580141, 267914296, 433494437, 701408733, 1134903170, 1836311903, 2971215073, 4807526976, 7778742049]\n",
      "50\n"
     ]
    }
   ],
   "source": [
    "lista= [0,1]\n",
    "\n",
    "for i in range(0, 48,1):\n",
    "    n = lista[-2] + lista[-1]\n",
    "    lista.append(n)\n",
    "\n",
    "print(lista)\n",
    "print(len(lista))\n"
   ]
  },
  {
   "cell_type": "markdown",
   "metadata": {},
   "source": [
    "\n",
    "'''\n",
    "/*\n",
    " * Escribe un programa que se encargue de comprobar si un número es o no primo.\n",
    " * Hecho esto, imprime los números primos entre 1 y 100.\n",
    " */\n",
    "'''\n",
    "\n"
   ]
  },
  {
   "cell_type": "code",
   "execution_count": null,
   "metadata": {},
   "outputs": [],
   "source": [
    "\n",
    "'''\n",
    "/*\n",
    " * Escribe un programa que se encargue de comprobar si un número es o no primo.\n",
    " * Hecho esto, imprime los números primos entre 1 y 100.\n",
    " */\n",
    "'''\n",
    "def es_primo(num: int)-> bool:\n",
    "    if num < 2:\n",
    "        return False\n",
    "    for i in range(2, num, 1):\n",
    "        if num  % i == 0:\n",
    "            return False\n",
    "    return True\n",
    "\n",
    "\n",
    "# print(es_primo(3))\n",
    "primos = []\n",
    "\n",
    "for i in range(0, 100, 1):\n",
    "    if es_primo(i):\n",
    "        primos.append(i)\n",
    "\n",
    "print(primos)\n"
   ]
  },
  {
   "cell_type": "markdown",
   "metadata": {},
   "source": [
    "\n",
    "'''\n",
    "/*\n",
    " * Crea una única función (importante que sólo sea una) que sea capaz\n",
    " * de calcular y retornar el área de un polígono.\n",
    " * - La función recibirá por parámetro sólo UN polígono a la vez.\n",
    " * - Los polígonos soportados serán Triángulo, Cuadrado y Rectángulo.\n",
    " * - Imprime el cálculo del área de un polígono de cada tipo.\n",
    " */\n",
    "'''\n",
    "\n"
   ]
  },
  {
   "cell_type": "code",
   "execution_count": null,
   "metadata": {},
   "outputs": [],
   "source": [
    "\n",
    "'''\n",
    "/*\n",
    " * Crea una única función (importante que sólo sea una) que sea capaz\n",
    " * de calcular y retornar el área de un polígono.\n",
    " * - La función recibirá por parámetro sólo UN polígono a la vez.\n",
    " * - Los polígonos soportados serán Triángulo, Cuadrado y Rectángulo.\n",
    " * - Imprime el cálculo del área de un polígono de cada tipo.\n",
    " */\n",
    "'''\n",
    "def area_poligono(poligono: str)-> float:\n",
    "    if poligono == 'Triángulo':\n",
    "        b = float(input('input the base: '))\n",
    "        h = float(input('input the hight: '))\n",
    "        a = b*h/2\n",
    "        return a\n",
    "    elif poligono== 'Cuadrado':\n",
    "        l = float((input('Input the side')))\n",
    "        a = l**2\n",
    "        return a\n",
    "    elif poligono == 'Rectángulo':\n",
    "        l =float(input('input the base: '))\n",
    "        b = float((input('Input the side')))\n",
    "        a = l*b\n",
    "        return a\n",
    "    \n",
    "print(area_poligono(input('Input Triángulo, Cuadrado or Rectángulo ')))\n"
   ]
  },
  {
   "cell_type": "code",
   "execution_count": 7,
   "metadata": {},
   "outputs": [
    {
     "name": "stdout",
     "output_type": "stream",
     "text": [
      "0\n",
      "1\n",
      "2\n",
      "3\n",
      "4\n"
     ]
    }
   ],
   "source": [
    "for i in range(5):\n",
    "    print(i)"
   ]
  }
 ],
 "metadata": {
  "kernelspec": {
   "display_name": "Python 3",
   "language": "python",
   "name": "python3"
  },
  "language_info": {
   "codemirror_mode": {
    "name": "ipython",
    "version": 3
   },
   "file_extension": ".py",
   "mimetype": "text/x-python",
   "name": "python",
   "nbconvert_exporter": "python",
   "pygments_lexer": "ipython3",
   "version": "3.11.5"
  }
 },
 "nbformat": 4,
 "nbformat_minor": 2
}
