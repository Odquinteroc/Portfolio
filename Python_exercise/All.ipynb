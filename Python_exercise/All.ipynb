{
 "cells": [
  {
   "cell_type": "markdown",
   "metadata": {},
   "source": [
    "\n",
    "### 1\n",
    "You are given an array prices where prices[i] is the price of a given stock on the ith day.\n",
    "You want to maximize your profit by choosing a single day to buy one stock and choosing a different day in the future to sell that stock. Return the maximum profit you can achieve from this transaction. If you cannot achieve any profit, return e.\n",
    "Example 1:\n",
    "Input: prices = [7,1,5,3,6,4]\n",
    "Output: 5\n",
    "Explanation: Buy on day 2 (price = 1) and sell on day 5 (price = 6), profit = 6-1 = 5.\n",
    "Note that buying on day 2 and selling on day 1 is not allowed because you must buy before you sell. Example 2:\n",
    "Input: prices = [7,6,4,3,1]\n",
    "Output: 0"
   ]
  },
  {
   "cell_type": "code",
   "execution_count": 27,
   "metadata": {},
   "outputs": [
    {
     "name": "stdout",
     "output_type": "stream",
     "text": [
      "5\n",
      "range(0, 4)\n",
      "0\n"
     ]
    }
   ],
   "source": [
    "prices = [7,6,4,3,1]\n",
    "print(len(prices))\n",
    "\n",
    "profit = 0\n",
    "max_profit = 0\n",
    "for i in range(len(prices)-1):\n",
    "    for j in range(i+1, len(prices)):\n",
    "        profit = prices[j] - prices[i]\n",
    "        if profit > max_profit:\n",
    "            max_profit = profit\n",
    "        else:\n",
    "            continue\n",
    "print(max_profit)\n",
    "        "
   ]
  },
  {
   "cell_type": "code",
   "execution_count": 32,
   "metadata": {},
   "outputs": [
    {
     "name": "stdout",
     "output_type": "stream",
     "text": [
      "5\n",
      "0\n",
      "1\n",
      "2\n",
      "3\n"
     ]
    }
   ],
   "source": [
    "lista=[7,6,4,3,1]\n",
    "print(len(lista))\n",
    "for i in range(len(lista)-1):\n",
    "    print(i)"
   ]
  },
  {
   "cell_type": "markdown",
   "metadata": {},
   "source": [
    "### 2 \n",
    "Sum all even numbers in a list called \"nums\" Return -1 if no valid even numbers are found"
   ]
  },
  {
   "cell_type": "code",
   "execution_count": 1,
   "metadata": {},
   "outputs": [
    {
     "name": "stdout",
     "output_type": "stream",
     "text": [
      "6\n",
      "-2\n",
      "-1\n",
      "4\n",
      "-4\n"
     ]
    }
   ],
   "source": [
    "def sum_even_nums(nums: list[int])-> int:\n",
    "\n",
    "    if not nums:\n",
    "        return -1\n",
    "    \n",
    "    sum = 0\n",
    "    for num in nums:\n",
    "        if type(num) == int or type(num)== float:\n",
    "            if num%2 == 0:\n",
    "                sum += num\n",
    "    return sum\n",
    "\n",
    "print(sum_even_nums([2,3,4]))\n",
    "print(sum_even_nums([2,3,-4]))\n",
    "print(sum_even_nums([]))\n",
    "print(sum_even_nums([0.2,4,-7]))\n",
    "print(sum_even_nums([[6,4,2],4,-8]))"
   ]
  },
  {
   "cell_type": "code",
   "execution_count": 3,
   "metadata": {},
   "outputs": [
    {
     "name": "stdout",
     "output_type": "stream",
     "text": [
      "4\n"
     ]
    }
   ],
   "source": [
    "\n",
    "lista = [0.2,4,-7]\n",
    "even = filter(lambda x: x % 2 == 0, lista )\n",
    "a = list(even)\n",
    "b = sum(a)\n",
    "\n",
    "if not lista:\n",
    "    b = -1\n",
    "print(b)"
   ]
  },
  {
   "cell_type": "markdown",
   "metadata": {},
   "source": [
    "\n",
    " * Escribe un programa que muestre por consola (con un print) los\n",
    " * números de 1 a 100 (ambos incluidos y con un salto de línea entre\n",
    " * cada impresión), sustituyendo los siguientes:\n",
    " * - Múltiplos de 3 por la palabra \"fizz\".\n",
    " * - Múltiplos de 5 por la palabra \"buzz\".\n",
    " * - Múltiplos de 3 y de 5 a la vez por la palabra \"fizzbuzz\".\n"
   ]
  },
  {
   "cell_type": "code",
   "execution_count": null,
   "metadata": {},
   "outputs": [],
   "source": [
    "lista = [x for x in range(1, 101, 1)]\n",
    "for i in lista:\n",
    "    if i%3 == 0:\n",
    "        i = \"fizz\"\n",
    "    elif i%5 == 0:\n",
    "        i =\"buzz\"\n",
    "    elif i%3 ==0 and i % 5==0:\n",
    "        i = \"fizzbuzz\"\n",
    "    else:\n",
    "        i = i\n",
    "    print(i)"
   ]
  }
 ],
 "metadata": {
  "kernelspec": {
   "display_name": "Python 3",
   "language": "python",
   "name": "python3"
  },
  "language_info": {
   "codemirror_mode": {
    "name": "ipython",
    "version": 3
   },
   "file_extension": ".py",
   "mimetype": "text/x-python",
   "name": "python",
   "nbconvert_exporter": "python",
   "pygments_lexer": "ipython3",
   "version": "3.11.5"
  }
 },
 "nbformat": 4,
 "nbformat_minor": 2
}
