{
 "cells": [
  {
   "cell_type": "markdown",
   "metadata": {},
   "source": [
    "Given a string of any length, return 50% or half of the given string.\n",
    "Notes/Constraints:\n",
    "• Should a given string have an odd number of letters, round down to the nearest number.\n"
   ]
  },
  {
   "cell_type": "code",
   "execution_count": 10,
   "metadata": {},
   "outputs": [
    {
     "name": "stdout",
     "output_type": "stream",
     "text": [
      "hola \n"
     ]
    }
   ],
   "source": [
    "def return_half(text: str)-> str:\n",
    "    new_text=text[:len(text)//2]\n",
    "    return new_text\n",
    "print(return_half('hola mundo'))"
   ]
  },
  {
   "cell_type": "markdown",
   "metadata": {},
   "source": [
    "You are given an array prices where prices[i] is the price of a given stock on the ith day.\n",
    "You want to maximize your profit by choosing a single day to buy one stock and choosing a different day in the future to sell that stock. Return the maximum profit you can achieve from this transaction. If you cannot achieve any profit, return e.\n",
    "Example 1:\n",
    "Input: prices = [7,1,5,3,6,4]\n",
    "Output: 5\n",
    "Explanation: Buy on day 2 (price = 1) and sell on day 5 (price = 6), profit = 6-1 = 5.\n",
    "Note that buying on day 2 and selling on day 1 is not allowed because you must buy before you sell. Example 2:\n",
    "Input: prices = [7,6,4,3,1]\n",
    "Output: 0"
   ]
  },
  {
   "cell_type": "code",
   "execution_count": 4,
   "metadata": {},
   "outputs": [
    {
     "name": "stdout",
     "output_type": "stream",
     "text": [
      "0\n",
      "5\n"
     ]
    }
   ],
   "source": [
    "def max_profit(list: list[int])-> int:\n",
    "    profit =0\n",
    "    maxprofit =0\n",
    "    for i in range(len(list)-1):\n",
    "        for j in range(i+1, len(list)):\n",
    "            profit =list[j]-list[i]\n",
    "            if profit > maxprofit:\n",
    "                maxprofit = profit\n",
    "    return maxprofit\n",
    "\n",
    "print(max_profit([7,6,4,3,1]))\n",
    "print(max_profit([7,1,5,3,6,4]))\n"
   ]
  },
  {
   "cell_type": "markdown",
   "metadata": {},
   "source": [
    "Sum all even numbers in a list called \"nums\" Return -1 if no valid even numbers are found"
   ]
  },
  {
   "cell_type": "code",
   "execution_count": 8,
   "metadata": {},
   "outputs": [
    {
     "name": "stdout",
     "output_type": "stream",
     "text": [
      "6\n",
      "-2\n",
      "-1\n",
      "4\n",
      "-4\n"
     ]
    }
   ],
   "source": [
    "def even(nums:list)->int:\n",
    "    sumeven =0\n",
    "    for num in nums:\n",
    "        if type(num)==int or type(float)==0:\n",
    "            if num%2 == 0:\n",
    "                sumeven+=num\n",
    "                \n",
    "    if len(nums) < 1:\n",
    "        sumeven = -1\n",
    "    return sumeven\n",
    "\n",
    "print(even([2,3,4]))\n",
    "print(even([2,3,-4]))\n",
    "print(even([]))\n",
    "print(even([0.2,4,-7]))\n",
    "print(even([[6,4,2],4,-8]))\n",
    "    \n",
    "\n",
    "    \n",
    "    "
   ]
  },
  {
   "cell_type": "markdown",
   "metadata": {},
   "source": []
  },
  {
   "cell_type": "code",
   "execution_count": null,
   "metadata": {},
   "outputs": [],
   "source": []
  }
 ],
 "metadata": {
  "kernelspec": {
   "display_name": "Python 3",
   "language": "python",
   "name": "python3"
  },
  "language_info": {
   "codemirror_mode": {
    "name": "ipython",
    "version": 3
   },
   "file_extension": ".py",
   "mimetype": "text/x-python",
   "name": "python",
   "nbconvert_exporter": "python",
   "pygments_lexer": "ipython3",
   "version": "3.11.5"
  }
 },
 "nbformat": 4,
 "nbformat_minor": 2
}
